{
 "cells": [
  {
   "cell_type": "code",
   "execution_count": 2,
   "metadata": {},
   "outputs": [],
   "source": [
    "import urllib\n",
    "import warnings\n",
    "warnings.simplefilter(action='ignore', category=FutureWarning)\n",
    "\n",
    "import torch\n",
    "import torch.nn as nn\n",
    "import torchvision\n",
    "import json\n",
    "\n",
    "from torchvision import transforms\n",
    "from PIL import Image\n",
    "\n",
    "import coremltools as ct\n",
    "import cv2"
   ]
  },
  {
   "cell_type": "code",
   "execution_count": 3,
   "metadata": {},
   "outputs": [],
   "source": [
    "class WrappedModel(nn.Module):\n",
    "\n",
    "    def __init__(self):\n",
    "        super(WrappedModel, self).__init__()\n",
    "        self.model = torch.load('weights_mobile_l_8_full.pt',map_location=torch.device('cpu'))\n",
    "\n",
    "        \n",
    "    def forward(self, x):\n",
    "               \n",
    "        x_num = x.unsqueeze(0).type(torch.FloatTensor)/255.\n",
    "        res = self.model(x_num)\n",
    "        res = res.clamp(0.0,1.0)\n",
    "        res2 = torch.where(res > 0.7, torch.Tensor([1.0]), torch.Tensor([0.0]))\n",
    "\n",
    "        return res2.squeeze()"
   ]
  },
  {
   "cell_type": "code",
   "execution_count": 4,
   "metadata": {},
   "outputs": [
    {
     "name": "stderr",
     "output_type": "stream",
     "text": [
      "/home/zed/.local/lib/python3.6/site-packages/ipykernel_launcher.py:13: TracerWarning: torch.Tensor results are registered as constants in the trace. You can safely ignore this warning if you use this function to create tensors out of constant variables that would be the same every time you call this function. In any other case, this might cause the trace to be incorrect.\n",
      "  del sys.path[0]\n"
     ]
    }
   ],
   "source": [
    "traceable_model = WrappedModel().eval()\n",
    "example_input = torch.rand(3,256,256)\n",
    "trace = torch.jit.trace(traceable_model, example_input) "
   ]
  },
  {
   "cell_type": "code",
   "execution_count": 5,
   "metadata": {},
   "outputs": [
    {
     "name": "stderr",
     "output_type": "stream",
     "text": [
      "Converting Frontend ==> MIL Ops:   0%|          | 0/125 [00:00<?, ? ops/s]\n",
      "Running MIL optimization passes: 100%|██████████| 18/18 [00:00<00:00, 675.15 passes/s]\n",
      "Translating MIL ==> MLModel Ops: 100%|██████████| 131/131 [00:00<00:00, 495.74 ops/s]\n"
     ]
    }
   ],
   "source": [
    "mlmodel = ct.convert(\n",
    "    trace,\n",
    "    inputs=[ct.ImageType(name=\"input_1\", shape=example_input.shape)],\n",
    ")"
   ]
  },
  {
   "cell_type": "code",
   "execution_count": 6,
   "metadata": {},
   "outputs": [],
   "source": [
    "mlmodel.save(\"FaceSegModel.mlmodel\")"
   ]
  },
  {
   "cell_type": "code",
   "execution_count": 8,
   "metadata": {},
   "outputs": [],
   "source": [
    "import coremltools.proto.FeatureTypes_pb2 as ft \n",
    "\n",
    "spec = ct.utils.load_spec(\"FaceSegModel.mlmodel\")\n",
    "\n",
    "input = spec.description.input[0]\n",
    "input.type.imageType.colorSpace = ft.ImageFeatureType.RGB\n",
    "input.type.imageType.height = 256 \n",
    "input.type.imageType.width = 256\n",
    "\n",
    "# If you prefer the model output to be a UIImage\n",
    "\n",
    "# new_output = spec.description.output[0]\n",
    "# new_output.type.imageType.colorSpace = ft.ImageFeatureType.GRAYSCALE\n",
    "# new_output.type.imageType.height = 256 \n",
    "# new_output.type.imageType.width = 256\n",
    "\n",
    "\n",
    "ct.utils.save_spec(spec, \"FaceSegModel.mlmodel\")"
   ]
  },
  {
   "cell_type": "code",
   "execution_count": null,
   "metadata": {},
   "outputs": [],
   "source": []
  }
 ],
 "metadata": {
  "kernelspec": {
   "display_name": "Python 3",
   "language": "python",
   "name": "python3"
  },
  "language_info": {
   "codemirror_mode": {
    "name": "ipython",
    "version": 3
   },
   "file_extension": ".py",
   "mimetype": "text/x-python",
   "name": "python",
   "nbconvert_exporter": "python",
   "pygments_lexer": "ipython3",
   "version": "3.6.8"
  }
 },
 "nbformat": 4,
 "nbformat_minor": 5
}
